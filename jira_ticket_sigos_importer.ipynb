{
 "cells": [
  {
   "cell_type": "code",
   "execution_count": 8,
   "id": "de21849d",
   "metadata": {},
   "outputs": [],
   "source": [
    "import re\n",
    "import pandas as pd"
   ]
  },
  {
   "cell_type": "code",
   "execution_count": 9,
   "id": "afbae17e",
   "metadata": {},
   "outputs": [],
   "source": [
    "# Insert your own csv file here\n",
    "xpress_umts_df = pd.read_csv(\"<Your File goes here>\")"
   ]
  },
  {
   "cell_type": "code",
   "execution_count": 11,
   "id": "4e527a7f",
   "metadata": {},
   "outputs": [],
   "source": [
    "xpress_umts_df.head()\n",
    "csv_column = xpress_umts_df[\"Summary\"]"
   ]
  },
  {
   "cell_type": "code",
   "execution_count": 12,
   "id": "ba3bc15b",
   "metadata": {},
   "outputs": [],
   "source": [
    "mcc_mnc_pattern = r\"\\d{3} \\d{2}\"\n",
    "imsi_pattern = r\"IMSI \\d+\"\n",
    "country_pattern = r\"\\] - (.*?) -\""
   ]
  },
  {
   "cell_type": "code",
   "execution_count": 13,
   "id": "f837c391",
   "metadata": {},
   "outputs": [],
   "source": [
    "countries = []\n",
    "mcc_mncs = []\n",
    "imsis = []"
   ]
  },
  {
   "cell_type": "code",
   "execution_count": 14,
   "id": "12f5a6f9",
   "metadata": {},
   "outputs": [],
   "source": [
    "for row in csv_column:\n",
    "    country_match = re.search(country_pattern, row)\n",
    "    mcc_mnc_match = re.search(mcc_mnc_pattern, row)\n",
    "    imsi_match = re.search(imsi_pattern, row)\n",
    "\n",
    "    if country_match:\n",
    "        country_name = country_match.group(1) + \"-*\"  # Add \"-*\" to the country name\n",
    "    else:\n",
    "        country_name = \"Country not found\"\n",
    "\n",
    "    if mcc_mnc_match:\n",
    "        mcc_mnc = mcc_mnc_match.group().replace(\" \", \"\")  # Remove spaces in MCC MNC\n",
    "    else:\n",
    "        mcc_mnc = \"MCCMNCnotfound\"\n",
    "\n",
    "    if imsi_match:\n",
    "        imsi = imsi_match.group().split()[-1]\n",
    "    else:\n",
    "        imsi = \"IMSI not found\"\n",
    "\n",
    "    # Append the extracted information to the respective lists\n",
    "    countries.append(country_name)\n",
    "    mcc_mncs.append(mcc_mnc)\n",
    "    imsis.append(imsi)"
   ]
  },
  {
   "cell_type": "code",
   "execution_count": 15,
   "id": "eb5780a6",
   "metadata": {},
   "outputs": [],
   "source": [
    "extracted_data = pd.DataFrame({'Country': countries, 'MCC_MNC': mcc_mncs, 'IMSI': imsis})"
   ]
  },
  {
   "cell_type": "code",
   "execution_count": 16,
   "id": "3901a4e2",
   "metadata": {},
   "outputs": [],
   "source": [
    "names_of_xpress_sims = {\n",
    "    20829: \"fr cubic xpress\",\n",
    "    90131: \"fr orange xpress\",\n",
    "    29506: \"li cubic xpress\",\n",
    "    24007: \"se tele2 xpress\",\n",
    "    52003: \"th ais xpress\",\n",
    "    23433: \"uk ee xpress\"\n",
    "}"
   ]
  },
  {
   "cell_type": "code",
   "execution_count": 17,
   "id": "8e77ce59",
   "metadata": {},
   "outputs": [],
   "source": [
    "extracted_data['Network Name'] = ''"
   ]
  },
  {
   "cell_type": "code",
   "execution_count": 18,
   "id": "d251f330",
   "metadata": {},
   "outputs": [],
   "source": [
    "for index, row in extracted_data.iterrows():\n",
    "    imsi = row['IMSI']\n",
    "    if imsi != 'IMSI not found':\n",
    "        imsi = int(imsi)  # Convert IMSI to an integer for dictionary lookup\n",
    "        if imsi in names_of_xpress_sims:\n",
    "            extracted_data.at[index, 'Network_Name'] = names_of_xpress_sims[imsi]"
   ]
  },
  {
   "cell_type": "code",
   "execution_count": 19,
   "id": "e1b45931",
   "metadata": {},
   "outputs": [
    {
     "data": {
      "text/html": [
       "<div>\n",
       "<style scoped>\n",
       "    .dataframe tbody tr th:only-of-type {\n",
       "        vertical-align: middle;\n",
       "    }\n",
       "\n",
       "    .dataframe tbody tr th {\n",
       "        vertical-align: top;\n",
       "    }\n",
       "\n",
       "    .dataframe thead th {\n",
       "        text-align: right;\n",
       "    }\n",
       "</style>\n",
       "<table border=\"1\" class=\"dataframe\">\n",
       "  <thead>\n",
       "    <tr style=\"text-align: right;\">\n",
       "      <th></th>\n",
       "      <th>Country</th>\n",
       "      <th>MCC_MNC</th>\n",
       "      <th>IMSI</th>\n",
       "      <th>Network Name</th>\n",
       "    </tr>\n",
       "  </thead>\n",
       "  <tbody>\n",
       "    <tr>\n",
       "      <th>0</th>\n",
       "      <td>Argentina-*</td>\n",
       "      <td>72207</td>\n",
       "      <td>52003</td>\n",
       "      <td>th ais xpress</td>\n",
       "    </tr>\n",
       "    <tr>\n",
       "      <th>1</th>\n",
       "      <td>Ghana-*</td>\n",
       "      <td>62001</td>\n",
       "      <td>29506</td>\n",
       "      <td>li cubic xpress</td>\n",
       "    </tr>\n",
       "    <tr>\n",
       "      <th>2</th>\n",
       "      <td>Taiwan-*</td>\n",
       "      <td>46697</td>\n",
       "      <td>29506</td>\n",
       "      <td>li cubic xpress</td>\n",
       "    </tr>\n",
       "    <tr>\n",
       "      <th>3</th>\n",
       "      <td>Belgium-*</td>\n",
       "      <td>20610</td>\n",
       "      <td>90131</td>\n",
       "      <td>fr orange xpress</td>\n",
       "    </tr>\n",
       "    <tr>\n",
       "      <th>4</th>\n",
       "      <td>Hong Kong SAR China-*</td>\n",
       "      <td>45400</td>\n",
       "      <td>29506</td>\n",
       "      <td>li cubic xpress</td>\n",
       "    </tr>\n",
       "  </tbody>\n",
       "</table>\n",
       "</div>"
      ],
      "text/plain": [
       "                 Country MCC_MNC   IMSI      Network Name\n",
       "0            Argentina-*   72207  52003     th ais xpress\n",
       "1                Ghana-*   62001  29506   li cubic xpress\n",
       "2               Taiwan-*   46697  29506   li cubic xpress\n",
       "3              Belgium-*   20610  90131  fr orange xpress\n",
       "4  Hong Kong SAR China-*   45400  29506   li cubic xpress"
      ]
     },
     "execution_count": 19,
     "metadata": {},
     "output_type": "execute_result"
    }
   ],
   "source": [
    "extracted_data.head()"
   ]
  },
  {
   "cell_type": "code",
   "execution_count": 20,
   "id": "29bb7816",
   "metadata": {},
   "outputs": [],
   "source": [
    "# Insert where you want to export the new csv file here\n",
    "extracted_data.to_csv(\"<Export file destination here>\", index=False)"
   ]
  },
  {
   "cell_type": "code",
   "execution_count": null,
   "id": "8ad66563",
   "metadata": {},
   "outputs": [],
   "source": []
  }
 ],
 "metadata": {
  "kernelspec": {
   "display_name": "Python 3 (ipykernel)",
   "language": "python",
   "name": "python3"
  },
  "language_info": {
   "codemirror_mode": {
    "name": "ipython",
    "version": 3
   },
   "file_extension": ".py",
   "mimetype": "text/x-python",
   "name": "python",
   "nbconvert_exporter": "python",
   "pygments_lexer": "ipython3",
   "version": "3.11.4"
  }
 },
 "nbformat": 4,
 "nbformat_minor": 5
}
